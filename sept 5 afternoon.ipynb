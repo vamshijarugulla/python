{
 "cells": [
  {
   "cell_type": "code",
   "execution_count": 1,
   "metadata": {},
   "outputs": [
    {
     "name": "stdout",
     "output_type": "stream",
     "text": [
      "enter lower bound number: 1990\n",
      "enter upper bound number: 2020\n",
      "1992\n",
      "1996\n",
      "2000\n",
      "2004\n",
      "2008\n",
      "2012\n",
      "2016\n",
      "2020\n"
     ]
    }
   ],
   "source": [
    "# Find whether it is leap year or not \n",
    "def leapyear(lb,ub):\n",
    "   for i in range(lb,ub+1):\n",
    "       if(i%400==0) or (i%4==0 and i%100!=0):\n",
    "           print(i)      \n",
    "leapyear(int(input(\"enter lower bound number: \")),int(input(\"enter upper bound number: \")))"
   ]
  },
  {
   "cell_type": "code",
   "execution_count": 2,
   "metadata": {},
   "outputs": [
    {
     "name": "stdout",
     "output_type": "stream",
     "text": [
      "enter a number: 21\n",
      "21 is not a prime\n"
     ]
    }
   ],
   "source": [
    "## write a program to check whether the given number is prime or not\n",
    "#range(2,n//2+1)\n",
    "def isprime(n):\n",
    "   count=0\n",
    "   for i in range(2,n//2+1):\n",
    "       if(n%i==0):\n",
    "           count+=1\n",
    "   if(count==0):\n",
    "       print(n,\"is a prime\")\n",
    "   else:\n",
    "       print(n,\"is not a prime\")\n",
    "isprime(int(input(\"enter a number: \")))"
   ]
  },
  {
   "cell_type": "code",
   "execution_count": 7,
   "metadata": {},
   "outputs": [
    {
     "name": "stdout",
     "output_type": "stream",
     "text": [
      "2 is a prime\n",
      "3 is a prime\n",
      "4 is not a prime\n",
      "5 is a prime\n",
      "6 is not a prime\n",
      "7 is a prime\n",
      "8 is not a prime\n",
      "9 is not a prime\n",
      "10 is not a prime\n",
      "11 is a prime\n",
      "12 is not a prime\n",
      "13 is a prime\n",
      "14 is not a prime\n",
      "15 is not a prime\n",
      "16 is not a prime\n",
      "17 is a prime\n",
      "18 is not a prime\n",
      "19 is a prime\n",
      "20 is not a prime\n",
      "21 is not a prime\n",
      "22 is not a prime\n",
      "23 is a prime\n",
      "24 is not a prime\n",
      "25 is not a prime\n",
      "26 is not a prime\n",
      "27 is not a prime\n",
      "28 is not a prime\n",
      "29 is a prime\n",
      "30 is not a prime\n",
      "31 is a prime\n",
      "32 is not a prime\n",
      "33 is not a prime\n",
      "34 is not a prime\n",
      "35 is not a prime\n",
      "36 is not a prime\n",
      "37 is a prime\n",
      "38 is not a prime\n",
      "39 is not a prime\n",
      "40 is not a prime\n",
      "41 is a prime\n",
      "42 is not a prime\n",
      "43 is a prime\n",
      "44 is not a prime\n",
      "45 is not a prime\n",
      "46 is not a prime\n",
      "47 is a prime\n",
      "48 is not a prime\n",
      "49 is not a prime\n",
      "50 is not a prime\n"
     ]
    }
   ],
   "source": [
    "## print the prime numbers in a given rang(2,50)\n",
    "def primenumbersinagivenrange(lb,ub):\n",
    "    for i in range(lb,ub+1):\n",
    "        if isprime(i):\n",
    "            print(i)\n",
    "primenumbersinagivenrange(2,50)"
   ]
  },
  {
   "cell_type": "code",
   "execution_count": 9,
   "metadata": {},
   "outputs": [
    {
     "name": "stdout",
     "output_type": "stream",
     "text": [
      "2 is a prime\n",
      "3 is a prime\n",
      "4 is not a prime\n",
      "5 is a prime\n",
      "6 is not a prime\n",
      "7 is a prime\n",
      "8 is not a prime\n",
      "9 is not a prime\n",
      "10 is not a prime\n",
      "11 is a prime\n",
      "12 is not a prime\n",
      "13 is a prime\n",
      "14 is not a prime\n",
      "15 is not a prime\n",
      "16 is not a prime\n",
      "17 is a prime\n",
      "18 is not a prime\n",
      "19 is a prime\n",
      "20 is not a prime\n",
      "21 is not a prime\n",
      "22 is not a prime\n",
      "23 is a prime\n",
      "24 is not a prime\n",
      "25 is not a prime\n",
      "26 is not a prime\n",
      "27 is not a prime\n",
      "28 is not a prime\n",
      "29 is a prime\n",
      "30 is not a prime\n",
      "31 is a prime\n",
      "32 is not a prime\n",
      "33 is not a prime\n",
      "34 is not a prime\n",
      "35 is not a prime\n",
      "36 is not a prime\n",
      "37 is a prime\n",
      "38 is not a prime\n",
      "39 is not a prime\n",
      "40 is not a prime\n",
      "41 is a prime\n",
      "42 is not a prime\n",
      "43 is a prime\n",
      "44 is not a prime\n",
      "45 is not a prime\n",
      "46 is not a prime\n",
      "47 is a prime\n",
      "48 is not a prime\n",
      "49 is not a prime\n",
      "50 is not a prime\n"
     ]
    }
   ],
   "source": [
    "def primenumbersinagivenrange(lb,ub):\n",
    "    \n",
    "    for i in range(lb,ub+1):\n",
    "        \n",
    "        if isprime(i):\n",
    "            \n",
    "            print(i)\n",
    "primenumbersinagivenrange(2,50)"
   ]
  },
  {
   "cell_type": "code",
   "execution_count": 10,
   "metadata": {},
   "outputs": [
    {
     "name": "stdout",
     "output_type": "stream",
     "text": [
      "enter a string: \"vamshi\"\n",
      "enter a number: 123\n",
      "3\n"
     ]
    },
    {
     "data": {
      "text/plain": [
       "False"
      ]
     },
     "execution_count": 10,
     "metadata": {},
     "output_type": "execute_result"
    }
   ],
   "source": [
    "# check the given number is equal or not\n",
    "def equalornot(s,n):\n",
    "   n=str(n)\n",
    "   print(len(n))\n",
    "   if(len(s)==len(n)):\n",
    "       return True\n",
    "   else:\n",
    "       return False\n",
    "equalornot(s=input(\"enter a string: \"),n=int(input(\"enter a number: \")))"
   ]
  },
  {
   "cell_type": "code",
   "execution_count": 26,
   "metadata": {},
   "outputs": [
    {
     "name": "stdout",
     "output_type": "stream",
     "text": [
      "True\n"
     ]
    }
   ],
   "source": [
    "# perfect number\n",
    "# i/p: 6=1,2,3,3=1+2+3=6\n",
    "def perfect_number(n):\n",
    "    sum = 0\n",
    "    for x in range(1, n):\n",
    "        if n % x == 0:\n",
    "            sum += x\n",
    "    if sum == n:\n",
    "        return True\n",
    "print(perfect_number(496))"
   ]
  },
  {
   "cell_type": "code",
   "execution_count": 28,
   "metadata": {},
   "outputs": [
    {
     "name": "stdout",
     "output_type": "stream",
     "text": [
      "enter lower bound number: 1\n",
      "enter upper bound number: 1000\n",
      "6\n",
      "28\n",
      "496\n"
     ]
    }
   ],
   "source": [
    "# perfect number in a given range\n",
    "def perfectrange(lb,ub):\n",
    "   for i in range(lb,ub+1):\n",
    "       if(perfect_number(i)):\n",
    "           print(i)\n",
    "perfectrange(lb=int(input(\"enter lower bound number: \")), ub=int(input(\"enter upper bound number: \")))"
   ]
  },
  {
   "cell_type": "code",
   "execution_count": 29,
   "metadata": {},
   "outputs": [
    {
     "name": "stdout",
     "output_type": "stream",
     "text": [
      "enter 'a' number: 55\n",
      "enter 'b' number: 77\n"
     ]
    },
    {
     "data": {
      "text/plain": [
       "False"
      ]
     },
     "execution_count": 29,
     "metadata": {},
     "output_type": "execute_result"
    }
   ],
   "source": [
    "#given two variables if one one of them is 10 or \n",
    "#their sum equals to 10 return true\n",
    "#else return false\n",
    "def sum_equal(a,b):\n",
    "   if(a==10 or b==10 or a+b==10):\n",
    "       return True\n",
    "   else:\n",
    "       return False\n",
    "sum_equal(a=int(input(\"enter 'a' number: \")),b=int(input(\"enter 'b' number: \")))"
   ]
  },
  {
   "cell_type": "code",
   "execution_count": 30,
   "metadata": {},
   "outputs": [
    {
     "name": "stdout",
     "output_type": "stream",
     "text": [
      "Hello World\n"
     ]
    }
   ],
   "source": [
    "s1=\"Hello\"\n",
    "s2=\" World\"\n",
    "s=s1+s2\n",
    "print(s)"
   ]
  },
  {
   "cell_type": "code",
   "execution_count": 31,
   "metadata": {},
   "outputs": [
    {
     "name": "stdout",
     "output_type": "stream",
     "text": [
      "None\n",
      "26\n",
      "0\n",
      "[26, 9, 5, 3, 2, 1, 0]\n",
      "9\n"
     ]
    }
   ],
   "source": [
    "##li=[10,9,8,7,6]\n",
    "## sort the list in ascending order=[6,7,8,9,10]\n",
    "### maximum element in the list\n",
    "### minimum element in the list\n",
    "### second largest element in that list\n",
    "def list(li1):\n",
    "    print(li1.sort())\n",
    "    print(max(li1))\n",
    "    print(min(li1))\n",
    "    li1.sort(reverse=True)\n",
    "    print(li1)\n",
    "    print(li1[1])\n",
    "list(li1=[0,1,26,2,3,9,5])\n",
    "\n",
    "    "
   ]
  },
  {
   "cell_type": "code",
   "execution_count": 32,
   "metadata": {},
   "outputs": [
    {
     "name": "stdout",
     "output_type": "stream",
     "text": [
      "list is:  [0, 1, 26, 2, 3, 9, 5]\n",
      "Ascending sort of list is:  [0, 1, 2, 3, 5, 9, 26]\n",
      "Maximum element is:  26\n",
      "Minimum element is:  0\n",
      "Descending order of list is:  [26, 9, 5, 3, 2, 1, 0]\n",
      "Second maximum element is:  9\n"
     ]
    }
   ],
   "source": [
    "def list(li1):\n",
    "   print(\"list is: \",li1)\n",
    "   li1.sort()\n",
    "   print(\"Ascending sort of list is: \",li1)\n",
    "   print(\"Maximum element is: \",max(li1))\n",
    "   print(\"Minimum element is: \",min(li1))\n",
    "   li1.sort(reverse=True)\n",
    "   print(\"Descending order of list is: \",li1)\n",
    "   print(\"Second maximum element is: \",li1[1])\n",
    "list(li1=[0,1,26,2,3,9,5])"
   ]
  },
  {
   "cell_type": "code",
   "execution_count": 33,
   "metadata": {},
   "outputs": [
    {
     "name": "stdout",
     "output_type": "stream",
     "text": [
      "list is:  [0, 1, 26, 2, 3, 9, 5]\n",
      "Ascending sort of list is:  [0, 1, 2, 3, 5, 9, 26]\n",
      "Maximum element is:  26\n",
      "Minimum element is:  0\n",
      "Descending order of list is:  [26, 9, 5, 3, 2, 1, 0]\n",
      "Second maximum element is:  9\n",
      "Fifth maximum element is;  2\n"
     ]
    }
   ],
   "source": [
    "def list(li1):\n",
    "   print(\"list is: \",li1)\n",
    "   li1.sort()\n",
    "   print(\"Ascending sort of list is: \",li1)\n",
    "   print(\"Maximum element is: \",max(li1))\n",
    "   print(\"Minimum element is: \",min(li1))\n",
    "   li1.sort(reverse=True)\n",
    "   print(\"Descending order of list is: \",li1)\n",
    "   print(\"Second maximum element is: \",li1[1])\n",
    "   print(\"Fifth maximum element is; \",li1[4])\n",
    "list(li1=[0,1,26,2,3,9,5])"
   ]
  },
  {
   "cell_type": "code",
   "execution_count": 34,
   "metadata": {},
   "outputs": [
    {
     "name": "stdout",
     "output_type": "stream",
     "text": [
      "[1, 2, 3, 4, 5]\n"
     ]
    }
   ],
   "source": [
    "li=[1,2,3,4,5,5,2,3]\n",
    "def li():\n",
    "   li=[1,2,3,4,5,5,2,3]\n",
    "   l=[]\n",
    "   for i in li:\n",
    "       if i not in l:\n",
    "           l.append(i)\n",
    "   print(l)\n",
    "li()"
   ]
  },
  {
   "cell_type": "code",
   "execution_count": 39,
   "metadata": {},
   "outputs": [
    {
     "name": "stdout",
     "output_type": "stream",
     "text": [
      "[1, 2, 3, 4, 5, -1]\n"
     ]
    }
   ],
   "source": [
    "## k=[2,4,4,4,6,6,3]\n",
    "## print uniqe list=[2,3,4,6]\n",
    "## sort the list\n",
    "## maximum element\n",
    "## minimum element\n",
    "## find largest element\n",
    "def li(li1):    \n",
    "    l=[]\n",
    "    for i in li1:\n",
    "        if i not in l:\n",
    "            l.append(i)\n",
    "    print(l)\n",
    "    \n",
    "li(li1=[1,2,3,4,5,-1,1,2,3,4])"
   ]
  },
  {
   "cell_type": "code",
   "execution_count": 40,
   "metadata": {},
   "outputs": [
    {
     "name": "stdout",
     "output_type": "stream",
     "text": [
      "[1, 2, 3, 4, 5, -1]\n",
      "[-1, 1, 2, 3, 4, 5]\n",
      "maximum element:  5\n",
      "minimum element:  -1\n"
     ]
    }
   ],
   "source": [
    "def li(li1):    \n",
    "   l=[]\n",
    "   for i in li1:\n",
    "       if i not in l:\n",
    "           l.append(i)\n",
    "   print(l)\n",
    "   l.sort()\n",
    "   print(l)\n",
    "   print(\"maximum element: \",max(l))\n",
    "   print(\"minimum element: \",min(l))\n",
    "li(li1=[1,2,3,4,5,-1,1,2,3,4])"
   ]
  },
  {
   "cell_type": "code",
   "execution_count": null,
   "metadata": {},
   "outputs": [],
   "source": []
  }
 ],
 "metadata": {
  "kernelspec": {
   "display_name": "Python 3",
   "language": "python",
   "name": "python3"
  },
  "language_info": {
   "codemirror_mode": {
    "name": "ipython",
    "version": 3
   },
   "file_extension": ".py",
   "mimetype": "text/x-python",
   "name": "python",
   "nbconvert_exporter": "python",
   "pygments_lexer": "ipython3",
   "version": "3.6.5"
  }
 },
 "nbformat": 4,
 "nbformat_minor": 2
}
