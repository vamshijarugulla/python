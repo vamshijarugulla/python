{
 "cells": [
  {
   "cell_type": "markdown",
   "metadata": {},
   "source": [
    "## Day Objectives\n",
    "1. creating contacts using dictionaries\n",
    "2. searching for a contact and merging the contacts\n",
    "3. packages and modules\n",
    "4. regular expressions and \n",
    "5. file handling "
   ]
  },
  {
   "cell_type": "code",
   "execution_count": 1,
   "metadata": {},
   "outputs": [],
   "source": [
    "dict={\"k1\":\"name\",\"k2\":\"age\"}"
   ]
  },
  {
   "cell_type": "code",
   "execution_count": 2,
   "metadata": {},
   "outputs": [
    {
     "data": {
      "text/plain": [
       "{'k1': 'name', 'k2': 'age'}"
      ]
     },
     "execution_count": 2,
     "metadata": {},
     "output_type": "execute_result"
    }
   ],
   "source": [
    "dict"
   ]
  },
  {
   "cell_type": "code",
   "execution_count": 3,
   "metadata": {},
   "outputs": [
    {
     "data": {
      "text/plain": [
       "dict_items([('k1', 'name'), ('k2', 'age')])"
      ]
     },
     "execution_count": 3,
     "metadata": {},
     "output_type": "execute_result"
    }
   ],
   "source": [
    "dict.items()"
   ]
  },
  {
   "cell_type": "code",
   "execution_count": 5,
   "metadata": {},
   "outputs": [
    {
     "data": {
      "text/plain": [
       "dict_keys(['k1', 'k2'])"
      ]
     },
     "execution_count": 5,
     "metadata": {},
     "output_type": "execute_result"
    }
   ],
   "source": [
    "dict.keys()"
   ]
  },
  {
   "cell_type": "code",
   "execution_count": 6,
   "metadata": {},
   "outputs": [
    {
     "data": {
      "text/plain": [
       "dict_values(['name', 'age'])"
      ]
     },
     "execution_count": 6,
     "metadata": {},
     "output_type": "execute_result"
    }
   ],
   "source": [
    "dict.values()"
   ]
  },
  {
   "cell_type": "code",
   "execution_count": 7,
   "metadata": {},
   "outputs": [
    {
     "name": "stdout",
     "output_type": "stream",
     "text": [
      "contact added successfully\n"
     ]
    }
   ],
   "source": [
    "## addding a contact\n",
    "## name , phone number\n",
    "contacts={}\n",
    "def addcontact(name,phonenumber):\n",
    "    if name not in contacts:\n",
    "        contacts[name]=phonenumber\n",
    "        print(\"contact added successfully\")\n",
    "    else:\n",
    "        print(\"contact already exists\")\n",
    "addcontact('name1',9898989889)\n",
    "\n",
    "        \n"
   ]
  },
  {
   "cell_type": "code",
   "execution_count": 11,
   "metadata": {},
   "outputs": [
    {
     "name": "stdout",
     "output_type": "stream",
     "text": [
      "contact added successfully\n"
     ]
    }
   ],
   "source": [
    "addcontact('name2',9663396963)"
   ]
  },
  {
   "cell_type": "code",
   "execution_count": 12,
   "metadata": {},
   "outputs": [
    {
     "data": {
      "text/plain": [
       "{'name1': 9898989889, 'name2': 9663396963}"
      ]
     },
     "execution_count": 12,
     "metadata": {},
     "output_type": "execute_result"
    }
   ],
   "source": [
    "contacts"
   ]
  },
  {
   "cell_type": "code",
   "execution_count": 14,
   "metadata": {},
   "outputs": [
    {
     "name": "stdout",
     "output_type": "stream",
     "text": [
      "name2 : 9663396963\n"
     ]
    }
   ],
   "source": [
    "## searching a contact\n",
    "## usingkey \"name\"\n",
    "def searchcontact(name):\n",
    "    if name in contacts:\n",
    "        print(name,\":\",contacts[name])\n",
    "    else:\n",
    "        print(\"doesn't exist \")\n",
    "searchcontact(\"name2\")        "
   ]
  },
  {
   "cell_type": "code",
   "execution_count": 15,
   "metadata": {},
   "outputs": [
    {
     "name": "stdout",
     "output_type": "stream",
     "text": [
      "name1 : 9898989889\n"
     ]
    }
   ],
   "source": [
    "searchcontact(\"name1\")        "
   ]
  },
  {
   "cell_type": "code",
   "execution_count": 16,
   "metadata": {},
   "outputs": [
    {
     "name": "stdout",
     "output_type": "stream",
     "text": [
      "doesn't exist \n"
     ]
    }
   ],
   "source": [
    "searchcontact(\"name3\")        "
   ]
  },
  {
   "cell_type": "code",
   "execution_count": 17,
   "metadata": {},
   "outputs": [
    {
     "name": "stdout",
     "output_type": "stream",
     "text": [
      "contact added successfully\n"
     ]
    }
   ],
   "source": [
    "addcontact('name3',9663396962)"
   ]
  },
  {
   "cell_type": "code",
   "execution_count": 18,
   "metadata": {},
   "outputs": [
    {
     "name": "stdout",
     "output_type": "stream",
     "text": [
      "name3 : 9663396962\n"
     ]
    }
   ],
   "source": [
    "searchcontact(\"name3\")      "
   ]
  },
  {
   "cell_type": "code",
   "execution_count": 21,
   "metadata": {},
   "outputs": [
    {
     "name": "stdout",
     "output_type": "stream",
     "text": [
      "2 contacts added successfully\n"
     ]
    }
   ],
   "source": [
    "## merging two contacts\n",
    "## using update method\n",
    "def mergecontacts(newcontacts):\n",
    "    contacts.update(newcontacts)\n",
    "    print(len(newcontacts.keys()),\"contacts added successfully\")\n",
    "   \n",
    "newcontacts={\"name2\":9696958478,\"name3\":9492296329}\n",
    "mergecontacts(newcontacts)   \n",
    "          "
   ]
  },
  {
   "cell_type": "code",
   "execution_count": 22,
   "metadata": {},
   "outputs": [
    {
     "name": "stdout",
     "output_type": "stream",
     "text": [
      "contact added successfully\n"
     ]
    }
   ],
   "source": [
    "## dictionary :mobilecontacts\n",
    "## add a contact\n",
    "##KEY:'a', value:9347967990\n",
    "##another dictionary:appele mobile\n",
    "## key:\"b\" , value:7032330000\n",
    "contacts={}\n",
    "def addcontact(name,phonenumber):\n",
    "    if name not in contacts:\n",
    "        contacts[name]=phonenumber\n",
    "        print(\"contact added successfully\")\n",
    "    else:\n",
    "        print(\"contact already exists\")\n",
    "addcontact('applemobile',9347967990)\n",
    "\n"
   ]
  },
  {
   "cell_type": "code",
   "execution_count": 23,
   "metadata": {},
   "outputs": [
    {
     "name": "stdout",
     "output_type": "stream",
     "text": [
      "contact added successfully\n"
     ]
    }
   ],
   "source": [
    "addcontact('key2',7032330000)\n"
   ]
  },
  {
   "cell_type": "code",
   "execution_count": 24,
   "metadata": {},
   "outputs": [
    {
     "name": "stdout",
     "output_type": "stream",
     "text": [
      "contact already exists\n"
     ]
    }
   ],
   "source": [
    "addcontact('key2',7032330000)\n"
   ]
  },
  {
   "cell_type": "markdown",
   "metadata": {},
   "source": [
    "## packages and modules\n",
    "##### package:  A collection of modules\n",
    "##### module: collection of functions"
   ]
  },
  {
   "cell_type": "code",
   "execution_count": 25,
   "metadata": {},
   "outputs": [
    {
     "data": {
      "text/plain": [
       "123"
      ]
     },
     "execution_count": 25,
     "metadata": {},
     "output_type": "execute_result"
    }
   ],
   "source": [
    "from math import floor\n",
    "floor(123.5677)"
   ]
  },
  {
   "cell_type": "code",
   "execution_count": 27,
   "metadata": {},
   "outputs": [],
   "source": [
    "from packages.numerical import isprime"
   ]
  },
  {
   "cell_type": "code",
   "execution_count": 28,
   "metadata": {},
   "outputs": [
    {
     "data": {
      "text/plain": [
       "False"
      ]
     },
     "execution_count": 28,
     "metadata": {},
     "output_type": "execute_result"
    }
   ],
   "source": [
    "isprime(10)"
   ]
  },
  {
   "cell_type": "markdown",
   "metadata": {},
   "source": [
    "## REGULAR EXPRESSION \n",
    "##### phone number: pattern=[6-9][0-9]{9}\n"
   ]
  },
  {
   "cell_type": "code",
   "execution_count": 8,
   "metadata": {},
   "outputs": [
    {
     "name": "stdout",
     "output_type": "stream",
     "text": [
      "invalid\n"
     ]
    }
   ],
   "source": [
    "## function for phonenumber validation using \n",
    "## regular expression\n",
    "import re\n",
    "def phonenumbervalidator(number):\n",
    "    pattern='^[6-9][0-9]{0}$'\n",
    "    if re.match(pattern,number):\n",
    "        print(\"valid\")\n",
    "    else:  \n",
    "        print(\"invalid\")\n",
    "phonenumbervalidator(\"9999999999\")"
   ]
  },
  {
   "cell_type": "code",
   "execution_count": 9,
   "metadata": {},
   "outputs": [
    {
     "name": "stdout",
     "output_type": "stream",
     "text": [
      "valid\n",
      "valid\n"
     ]
    }
   ],
   "source": [
    "import re\n",
    "def phonenumber_validator(number):\n",
    "   pattern='^[0,6-9][0-9]{9}$'\n",
    "   if re.match(pattern,number):  # match is a pre-built method for comparision\n",
    "       print(\"valid\")\n",
    "   else:\n",
    "       print(\"invalid\")\n",
    "phonenumber_validator(\"9949333193\")\n",
    "phonenumber_validator(\"0866233322\")"
   ]
  },
  {
   "cell_type": "code",
   "execution_count": 10,
   "metadata": {},
   "outputs": [
    {
     "name": "stdout",
     "output_type": "stream",
     "text": [
      "valid\n",
      "valid\n"
     ]
    }
   ],
   "source": [
    "import re\n",
    "def phonenumber_validator(number):\n",
    "   pattern='^[0-9][0-9]{9}$'\n",
    "   if re.match(pattern,number):  # match is a pre-built method for comparision\n",
    "       print(\"valid\")\n",
    "   else:\n",
    "       print(\"invalid\")\n",
    "phonenumber_validator(\"9949333193\")\n",
    "phonenumber_validator(\"0866233322\")"
   ]
  },
  {
   "cell_type": "code",
   "execution_count": 11,
   "metadata": {},
   "outputs": [],
   "source": [
    "##pattern for email validation\n",
    "##pattern:'^[a-z0-9][a-z0-9_.]{3,18}'..................pattern  for username\n",
    "## PATTERN FOR domain :'^[a-z0-9][a-z0-9_.]{3,18}[@][a-z0-9]{4,18}'\n",
    "## pattern for extension '[.][a-z]{2,4}'\n",
    "#### pattern "
   ]
  },
  {
   "cell_type": "code",
   "execution_count": 16,
   "metadata": {},
   "outputs": [
    {
     "name": "stdout",
     "output_type": "stream",
     "text": [
      "valid\n"
     ]
    }
   ],
   "source": [
    "import re\n",
    "def email_validator(email):\n",
    "    pattern='^[a-z0-9][a-z0-9_.]{3,18}[@][a-z0-9]{4,18}[.][a-z]{2,4}$'\n",
    "    if re.match(pattern,email):  # match is a pre-built method for comparision\n",
    "        print(\"valid\")\n",
    "    else:\n",
    "        print(\"invalid\")\n",
    "email_validator(\"nagabushan789@gmail.com\")"
   ]
  },
  {
   "cell_type": "markdown",
   "metadata": {},
   "source": [
    "## FILE HANDLING"
   ]
  },
  {
   "cell_type": "code",
   "execution_count": 2,
   "metadata": {},
   "outputs": [],
   "source": [
    "##syntax : file_obj=open(\"filepath\",\"mode\")   three modes: read,append , write"
   ]
  },
  {
   "cell_type": "code",
   "execution_count": 6,
   "metadata": {},
   "outputs": [
    {
     "name": "stdout",
     "output_type": "stream",
     "text": [
      "Line 1\n",
      "Line 2 \n",
      "Line 3\n",
      "\n"
     ]
    }
   ],
   "source": [
    "f = open(\"data files/data.txt\",\"r\")\n",
    "print(f.read())"
   ]
  },
  {
   "cell_type": "code",
   "execution_count": 8,
   "metadata": {},
   "outputs": [],
   "source": [
    "with open(\"data files/data.txt\",\"a\") as f:\n",
    "    f.write(\"line 5\")"
   ]
  },
  {
   "cell_type": "code",
   "execution_count": 10,
   "metadata": {},
   "outputs": [],
   "source": [
    "with open(\"data files/data.txt\",\"w\") as f:\n",
    "    f.write(\"line 5\")\n",
    "    f.close()"
   ]
  },
  {
   "cell_type": "code",
   "execution_count": 19,
   "metadata": {},
   "outputs": [],
   "source": [
    "f = open(\"datafiles/file.txt\",\"a\")"
   ]
  },
  {
   "cell_type": "code",
   "execution_count": 20,
   "metadata": {},
   "outputs": [],
   "source": [
    "f = open(\"datafiles/file.txt\",\"r\")"
   ]
  },
  {
   "cell_type": "code",
   "execution_count": 23,
   "metadata": {},
   "outputs": [],
   "source": [
    "with open(\"datafiles/file.txt\",\"w\") as f:\n",
    "    f.write(\"vamshi.jarugulla\")"
   ]
  },
  {
   "cell_type": "code",
   "execution_count": 28,
   "metadata": {},
   "outputs": [
    {
     "name": "stdout",
     "output_type": "stream",
     "text": [
      "50\n",
      "0\n"
     ]
    }
   ],
   "source": [
    "with open(\"datafiles/data.txt\",'a+') as f:\n",
    "    f.read()\n",
    "    print(f.tell())\n",
    "    f.write(\"Line 2\\nline 3\\nlin3 4\")\n",
    "    f.seek(0)\n",
    "    print(f.tell())\n"
   ]
  },
  {
   "cell_type": "code",
   "execution_count": 29,
   "metadata": {},
   "outputs": [
    {
     "name": "stdout",
     "output_type": "stream",
     "text": [
      "16\n"
     ]
    }
   ],
   "source": [
    "\n",
    "with open(\"DataFiles/file.txt\",\"a+\") as n:\n",
    "   n.read()\n",
    "   print(n.tell())  ## to find where is the cursor position"
   ]
  },
  {
   "cell_type": "code",
   "execution_count": 30,
   "metadata": {},
   "outputs": [
    {
     "name": "stdout",
     "output_type": "stream",
     "text": [
      "['l']\n",
      "['i']\n",
      "['n']\n",
      "['e']\n",
      "[]\n",
      "['5']\n",
      "['L']\n",
      "['i']\n",
      "['n']\n",
      "['e']\n",
      "[]\n",
      "['2']\n",
      "[]\n",
      "['l']\n",
      "['i']\n",
      "['n']\n",
      "['e']\n",
      "[]\n",
      "['3']\n",
      "[]\n",
      "['l']\n",
      "['i']\n",
      "['n']\n",
      "['3']\n",
      "[]\n",
      "['4']\n",
      "['L']\n",
      "['i']\n",
      "['n']\n",
      "['e']\n",
      "[]\n",
      "['2']\n",
      "[]\n",
      "['l']\n",
      "['i']\n",
      "['n']\n",
      "['e']\n",
      "[]\n",
      "['3']\n",
      "[]\n",
      "['l']\n",
      "['i']\n",
      "['n']\n",
      "['3']\n",
      "[]\n",
      "['4']\n",
      "['L']\n",
      "['i']\n",
      "['n']\n",
      "['e']\n",
      "[]\n",
      "['2']\n",
      "[]\n",
      "['l']\n",
      "['i']\n",
      "['n']\n",
      "['e']\n",
      "[]\n",
      "['3']\n",
      "[]\n",
      "['l']\n",
      "['i']\n",
      "['n']\n",
      "['3']\n",
      "[]\n",
      "['4']\n"
     ]
    }
   ],
   "source": [
    "with open(\"datafiles/data.txt\") as f:\n",
    "    data=f.read()\n",
    "    for line in data:\n",
    "        word = line.split()\n",
    "        print(word)"
   ]
  },
  {
   "cell_type": "code",
   "execution_count": 31,
   "metadata": {},
   "outputs": [
    {
     "name": "stdout",
     "output_type": "stream",
     "text": [
      "['line 5Line 2\\n', 'line 3\\n', 'lin3 4Line 2\\n', 'line 3\\n', 'lin3 4Line 2\\n', 'line 3\\n', 'lin3 4']\n"
     ]
    }
   ],
   "source": [
    "with open(\"datafiles/data.txt\") as f:\n",
    "    print(f.readlines())"
   ]
  },
  {
   "cell_type": "code",
   "execution_count": 32,
   "metadata": {},
   "outputs": [
    {
     "name": "stdout",
     "output_type": "stream",
     "text": [
      "['python programming language']\n"
     ]
    }
   ],
   "source": [
    "with open(\"DataFiles/data.txt\",'r') as n:\n",
    "    fh=n.read()\n",
    "    words=fh.split('#')  ## in order to split the data using '#' hashes\n",
    "    print(words)"
   ]
  },
  {
   "cell_type": "code",
   "execution_count": 33,
   "metadata": {},
   "outputs": [
    {
     "name": "stdout",
     "output_type": "stream",
     "text": [
      "python programming language\n"
     ]
    }
   ],
   "source": [
    "def readfile(filepath):\n",
    "    with open(filepath,'r') as f:\n",
    "        filedata=f.read()\n",
    "    return filedata\n",
    "filepath='datafiles/data.txt'\n",
    "print(readfile(filepath))"
   ]
  },
  {
   "cell_type": "code",
   "execution_count": 38,
   "metadata": {},
   "outputs": [
    {
     "name": "stdout",
     "output_type": "stream",
     "text": [
      "1\n"
     ]
    }
   ],
   "source": [
    "def linecount(filename):\n",
    "    count=0\n",
    "    with open(filename,'r') as f:\n",
    "         for i in f:\n",
    "            count=count+1\n",
    "    return count\n",
    "filename = \"datafiles/data.txt\"\n",
    "print(linecount(filename))"
   ]
  },
  {
   "cell_type": "code",
   "execution_count": 39,
   "metadata": {},
   "outputs": [
    {
     "name": "stdout",
     "output_type": "stream",
     "text": [
      "1\n"
     ]
    }
   ],
   "source": [
    "def linecount(filename):\n",
    "    count=0\n",
    "    with open(filename,'r') as n:\n",
    "        for i in n:\n",
    "            count+=1\n",
    "    return count\n",
    "filename=\"DataFiles/data.txt\"\n",
    "print(linecount(filename))\n"
   ]
  },
  {
   "cell_type": "code",
   "execution_count": 40,
   "metadata": {},
   "outputs": [
    {
     "name": "stdout",
     "output_type": "stream",
     "text": [
      "3\n"
     ]
    }
   ],
   "source": [
    "def wordcount(filename):\n",
    "    count=0\n",
    "    with open(filename,'r') as n:\n",
    "        fh=n.read()\n",
    "        words=fh.split()\n",
    "    for i in words:\n",
    "           count+=1\n",
    "    return count\n",
    "filename=\"DataFiles/data.txt\"\n",
    "print(wordcount(filename))"
   ]
  },
  {
   "cell_type": "code",
   "execution_count": 41,
   "metadata": {},
   "outputs": [
    {
     "name": "stdout",
     "output_type": "stream",
     "text": [
      "3\n"
     ]
    }
   ],
   "source": [
    "import re\n",
    "def wordcount(filepath):\n",
    "    pattern = '[ \\n]'\n",
    "    filedata = readfile(filepath)\n",
    "    count = len(re.split(pattern, filedata))\n",
    "    return count\n",
    "filepath = \"datafiles/data.txt\"\n",
    "print(wordcount(filepath))"
   ]
  },
  {
   "cell_type": "code",
   "execution_count": 50,
   "metadata": {},
   "outputs": [
    {
     "name": "stdout",
     "output_type": "stream",
     "text": [
      "['python', 'programming', 'language', 'andhra', 'loyalo', 'institute', 'of', 'engineering', 'and', 'technology', 'information', 'technology', 'second', 'year']\n",
      "['python', 'programming', 'language', 'andhra', 'loyalo', 'institute', 'of', 'engineering', 'and', 'technology', 'information', 'second', 'year']\n"
     ]
    }
   ],
   "source": [
    "\n",
    "l=[]\n",
    "def uniqueword():\n",
    "   with open(\"DataFiles/data.txt\") as n:\n",
    "       fh=n.read()                  \n",
    "       words=fh.split()\n",
    "       print(words)\n",
    "       for i in words:\n",
    "           if i not in l:\n",
    "               l.append(i)\n",
    "       print(l)\n",
    "uniqueword()"
   ]
  },
  {
   "cell_type": "code",
   "execution_count": 52,
   "metadata": {},
   "outputs": [
    {
     "ename": "NameError",
     "evalue": "name 'allwords' is not defined",
     "output_type": "error",
     "traceback": [
      "\u001b[1;31m---------------------------------------------------------------------------\u001b[0m",
      "\u001b[1;31mNameError\u001b[0m                                 Traceback (most recent call last)",
      "\u001b[1;32m<ipython-input-52-5329268f7227>\u001b[0m in \u001b[0;36m<module>\u001b[1;34m()\u001b[0m\n\u001b[1;32m----> 1\u001b[1;33m \u001b[1;32mfor\u001b[0m \u001b[0melements\u001b[0m \u001b[1;32min\u001b[0m \u001b[0mallwords\u001b[0m\u001b[1;33m:\u001b[0m\u001b[1;33m\u001b[0m\u001b[0m\n\u001b[0m\u001b[0;32m      2\u001b[0m     \u001b[1;32mif\u001b[0m \u001b[0melement\u001b[0m \u001b[1;32mnot\u001b[0m \u001b[1;32min\u001b[0m \u001b[0munique\u001b[0m\u001b[1;33m:\u001b[0m\u001b[1;33m\u001b[0m\u001b[0m\n\u001b[0;32m      3\u001b[0m         \u001b[0munique\u001b[0m\u001b[1;33m.\u001b[0m\u001b[0mappend\u001b[0m\u001b[1;33m(\u001b[0m\u001b[0melement\u001b[0m\u001b[1;33m)\u001b[0m\u001b[1;33m\u001b[0m\u001b[0m\n\u001b[0;32m      4\u001b[0m \u001b[1;32mreturn\u001b[0m \u001b[0munique\u001b[0m\u001b[1;33m\u001b[0m\u001b[0m\n",
      "\u001b[1;31mNameError\u001b[0m: name 'allwords' is not defined"
     ]
    }
   ],
   "source": [
    "def countword():\n",
    "    l=[]\n",
    "    with open(\"data files\")\n",
    "for elements in allwords:\n",
    "    if element not in unique:\n",
    "        unique.append(element)\n",
    "return unique\n"
   ]
  },
  {
   "cell_type": "code",
   "execution_count": 53,
   "metadata": {},
   "outputs": [
    {
     "name": "stdout",
     "output_type": "stream",
     "text": [
      "['python', 'programming', 'language', 'andhra', 'loyalo', 'institute', 'of', 'engineering', 'and', 'technology', 'information', 'technology', 'second', 'year']\n",
      "1\n"
     ]
    }
   ],
   "source": [
    "def countword():\n",
    "    l=[]\n",
    "    with open(\"DataFiles/data.txt\") as n:\n",
    "        fh=n.read()                  \n",
    "        words=fh.split()\n",
    "        print(words)\n",
    "        for i in words:\n",
    "             if i not in l:\n",
    "                l.append(i)\n",
    "        print(len(words)-len(l))\n",
    "countword()"
   ]
  },
  {
   "cell_type": "code",
   "execution_count": 54,
   "metadata": {},
   "outputs": [
    {
     "data": {
      "text/plain": [
       "{'python': 1,\n",
       " 'programming': 1,\n",
       " 'language': 1,\n",
       " 'andhra': 1,\n",
       " 'loyalo': 1,\n",
       " 'institute': 1,\n",
       " 'of': 1,\n",
       " 'engineering': 1,\n",
       " 'and': 1,\n",
       " 'technology': 2,\n",
       " 'information': 1,\n",
       " 'second': 1,\n",
       " 'year': 1}"
      ]
     },
     "execution_count": 54,
     "metadata": {},
     "output_type": "execute_result"
    }
   ],
   "source": [
    "def wordfrequency(filepath):\n",
    "    with open(filepath,'r') as n:\n",
    "        data=n.read()\n",
    "        allwords=data.split()\n",
    "        wordfreq={}\n",
    "        for element in allwords:\n",
    "            if element not in wordfreq:\n",
    "                wordfreq[element]=1\n",
    "            else:\n",
    "                wordfreq[element]+=1\n",
    "        return wordfreq\n",
    "filepath=\"DataFiles/data.txt\"\n",
    "wordfrequency(filepath)"
   ]
  },
  {
   "cell_type": "markdown",
   "metadata": {},
   "source": [
    "## set  and its methods\n"
   ]
  },
  {
   "cell_type": "code",
   "execution_count": 56,
   "metadata": {},
   "outputs": [
    {
     "name": "stdout",
     "output_type": "stream",
     "text": [
      "{456, 121, 45, 'aws'}\n",
      "[121, 'aws', 456, 121, 45, 'aws']\n"
     ]
    }
   ],
   "source": [
    "## set is a data structure\n",
    "## set is represented in {}\n",
    "## set ignores the repeated character in it\n",
    "l=(121,\"aws\",456,121,45,\"aws\")\n",
    "print(set(l))    ## here \"set()\" converts the list and tuple into set\n",
    "m=[121,\"aws\",456,121,45,\"aws\"]\n",
    "print(m)"
   ]
  },
  {
   "cell_type": "markdown",
   "metadata": {},
   "source": [
    "## SET METHODS \n",
    "\n"
   ]
  },
  {
   "cell_type": "code",
   "execution_count": 60,
   "metadata": {},
   "outputs": [
    {
     "data": {
      "text/plain": [
       "['__and__',\n",
       " '__class__',\n",
       " '__contains__',\n",
       " '__delattr__',\n",
       " '__dir__',\n",
       " '__doc__',\n",
       " '__eq__',\n",
       " '__format__',\n",
       " '__ge__',\n",
       " '__getattribute__',\n",
       " '__gt__',\n",
       " '__hash__',\n",
       " '__iand__',\n",
       " '__init__',\n",
       " '__init_subclass__',\n",
       " '__ior__',\n",
       " '__isub__',\n",
       " '__iter__',\n",
       " '__ixor__',\n",
       " '__le__',\n",
       " '__len__',\n",
       " '__lt__',\n",
       " '__ne__',\n",
       " '__new__',\n",
       " '__or__',\n",
       " '__rand__',\n",
       " '__reduce__',\n",
       " '__reduce_ex__',\n",
       " '__repr__',\n",
       " '__ror__',\n",
       " '__rsub__',\n",
       " '__rxor__',\n",
       " '__setattr__',\n",
       " '__sizeof__',\n",
       " '__str__',\n",
       " '__sub__',\n",
       " '__subclasshook__',\n",
       " '__xor__',\n",
       " 'add',\n",
       " 'clear',\n",
       " 'copy',\n",
       " 'difference',\n",
       " 'difference_update',\n",
       " 'discard',\n",
       " 'intersection',\n",
       " 'intersection_update',\n",
       " 'isdisjoint',\n",
       " 'issubset',\n",
       " 'issuperset',\n",
       " 'pop',\n",
       " 'remove',\n",
       " 'symmetric_difference',\n",
       " 'symmetric_difference_update',\n",
       " 'union',\n",
       " 'update']"
      ]
     },
     "execution_count": 60,
     "metadata": {},
     "output_type": "execute_result"
    }
   ],
   "source": [
    "dir(set)"
   ]
  },
  {
   "cell_type": "code",
   "execution_count": 62,
   "metadata": {},
   "outputs": [
    {
     "name": "stdout",
     "output_type": "stream",
     "text": [
      "{'abc', 1, 'number', 'doctor', 123, 'aliet', 991}\n"
     ]
    }
   ],
   "source": [
    "\n",
    "## union() method\n",
    "s1={\"abc\",1,\"aliet\",123,123,\"aliet\"}\n",
    "s2={\"doctor\",\"number\",991}\n",
    "print(s1.union(s2))\n"
   ]
  },
  {
   "cell_type": "code",
   "execution_count": 65,
   "metadata": {},
   "outputs": [
    {
     "name": "stdout",
     "output_type": "stream",
     "text": [
      "<built-in method intersection of set object at 0x0000021173D65828>\n"
     ]
    }
   ],
   "source": [
    "## intersection() method\n",
    "s1={\"abc\",1,\"aliet\",123,123,\"aliet\"}\n",
    "s2={\"doctor\",\"number\",991,\"aliet\",123}\n",
    "print(s1.intersection)"
   ]
  },
  {
   "cell_type": "code",
   "execution_count": 66,
   "metadata": {},
   "outputs": [
    {
     "name": "stdout",
     "output_type": "stream",
     "text": [
      "{1, 'aliet', 'abc', 345, 123}\n"
     ]
    }
   ],
   "source": [
    "## add() method\n",
    "s1={\"abc\",1,\"aliet\",123,123,\"aliet\"}\n",
    "s1.add(345)\n",
    "print(s1)"
   ]
  },
  {
   "cell_type": "code",
   "execution_count": 67,
   "metadata": {},
   "outputs": [],
   "source": [
    "## tasks\n",
    "## program for generating multiplication of table\n",
    "##i/p(3,5,7)\n",
    "#o/p:"
   ]
  },
  {
   "cell_type": "code",
   "execution_count": 70,
   "metadata": {},
   "outputs": [
    {
     "name": "stdout",
     "output_type": "stream",
     "text": [
      "3 x 5 = 15\n",
      "3 x 6 = 18\n",
      "3 x 7 = 21\n"
     ]
    }
   ],
   "source": [
    "## Tasks\n",
    "## Program for generating multiplication table\n",
    "## i/p:(3,5,7)\n",
    "##o/p:3x5=15\n",
    "#     3x6=18\n",
    "#     3x7=21\n",
    "def multipli(num,lb,ub):\n",
    "    for i in range(lb,ub+1):\n",
    "        print(num,\"x\",i,\"=\",num*i)\n",
    "multipli(3,5,7)"
   ]
  },
  {
   "cell_type": "code",
   "execution_count": 1,
   "metadata": {},
   "outputs": [
    {
     "name": "stdout",
     "output_type": "stream",
     "text": [
      "the unique list is:  [1, 10, 9, 8]\n",
      "the maximum value is:  10\n",
      "the minimum value is:  1\n",
      "the average of numbers in the list is:  7\n"
     ]
    }
   ],
   "source": [
    "# Design a program to find maximum, minimum and average of the numbers in a list\n",
    "# and average of numbers in a list\n",
    "# i/p;l=[1,10,10,9,9,8]\n",
    "# o/p:1. Find unique list\n",
    "#     2. Find max and min values\n",
    "#     3. Find average\n",
    "def min_max_avg_unq(a):\n",
    "    l=[]\n",
    "    for i in a:\n",
    "        if i not in l:\n",
    "            l.append(i)\n",
    "    print(\"the unique list is: \",l)\n",
    "    print(\"the maximum value is: \",max(l))\n",
    "    print(\"the minimum value is: \",min(l))\n",
    "    print(\"the average of numbers in the list is: \",sum(l)//len(l))\n",
    "min_max_avg_unq(a=[1,10,10,9,9,8])        "
   ]
  },
  {
   "cell_type": "code",
   "execution_count": 2,
   "metadata": {},
   "outputs": [
    {
     "data": {
      "text/plain": [
       "-1"
      ]
     },
     "execution_count": 2,
     "metadata": {},
     "output_type": "execute_result"
    }
   ],
   "source": [
    "## write a program for linear search in a list \n",
    "# if key is found print \"1\"\n",
    "#else print \"-1\"\n",
    "#i/p l=[10,9,8,7,6,5]\n",
    "#o/p: -1\n",
    "def linear_search(A, k):\n",
    "    for element in A:\n",
    "        if(element==k):\n",
    "            return 1\n",
    "        else:\n",
    "            return -1\n",
    "linear_search(A=[10,9,8,7,6], k=1)\n"
   ]
  },
  {
   "cell_type": "code",
   "execution_count": 3,
   "metadata": {},
   "outputs": [
    {
     "ename": "SyntaxError",
     "evalue": "unexpected EOF while parsing (<ipython-input-3-5191532d3d3f>, line 6)",
     "output_type": "error",
     "traceback": [
      "\u001b[1;36m  File \u001b[1;32m\"<ipython-input-3-5191532d3d3f>\"\u001b[1;36m, line \u001b[1;32m6\u001b[0m\n\u001b[1;33m    sqrt(int(input(\"enter a number: \"))\u001b[0m\n\u001b[1;37m                                       ^\u001b[0m\n\u001b[1;31mSyntaxError\u001b[0m\u001b[1;31m:\u001b[0m unexpected EOF while parsing\n"
     ]
    }
   ],
   "source": [
    "##  find the square root of the number without using \n",
    "#math packages\n",
    "def sqrt(number):\n",
    "    squrt=number**(1/2)\n",
    "    print(\"the sqrt of\",number,\"is: \",squrt)\n",
    "sqrt(int(input(\"enter a number: \"))\n"
   ]
  },
  {
   "cell_type": "code",
   "execution_count": 73,
   "metadata": {},
   "outputs": [],
   "source": [
    "# using a regular expression \n",
    "#add a name , phone number and email to contacts\n",
    "# Dictionary"
   ]
  },
  {
   "cell_type": "code",
   "execution_count": null,
   "metadata": {},
   "outputs": [],
   "source": []
  }
 ],
 "metadata": {
  "kernelspec": {
   "display_name": "Python 3",
   "language": "python",
   "name": "python3"
  },
  "language_info": {
   "codemirror_mode": {
    "name": "ipython",
    "version": 3
   },
   "file_extension": ".py",
   "mimetype": "text/x-python",
   "name": "python",
   "nbconvert_exporter": "python",
   "pygments_lexer": "ipython3",
   "version": "3.6.5"
  }
 },
 "nbformat": 4,
 "nbformat_minor": 2
}
