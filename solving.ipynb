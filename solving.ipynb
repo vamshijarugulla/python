{
 "cells": [
  {
   "cell_type": "markdown",
   "metadata": {},
   "source": [
    "# DAY OBJECTIVES\n",
    "1. Creating contacts using Dictionaries\n",
    "2. Searching for contacts\n",
    "3. Packages and Modules\n",
    "4. Regular Expressions and\n",
    "5. File Handling"
   ]
  },
  {
   "cell_type": "markdown",
   "metadata": {},
   "source": [
    "## Creating contacts using Dictionaries"
   ]
  },
  {
   "cell_type": "code",
   "execution_count": 1,
   "metadata": {},
   "outputs": [
    {
     "name": "stdout",
     "output_type": "stream",
     "text": [
      "{'k1': 'name', 'k2': 'age', 'k3': 'number'}\n"
     ]
    }
   ],
   "source": [
    "dict={\"k1\":\"name\",\"k2\":\"age\",\"k3\":\"number\"}\n",
    "print(dict)"
   ]
  },
  {
   "cell_type": "code",
   "execution_count": 6,
   "metadata": {},
   "outputs": [
    {
     "name": "stdout",
     "output_type": "stream",
     "text": [
      "dict_keys(['k1', 'k2', 'k3'])\n"
     ]
    }
   ],
   "source": [
    "print(dict.keys())"
   ]
  },
  {
   "cell_type": "code",
   "execution_count": 7,
   "metadata": {},
   "outputs": [
    {
     "name": "stdout",
     "output_type": "stream",
     "text": [
      "dict_values(['name', 'age', 'number'])\n"
     ]
    }
   ],
   "source": [
    "print(dict.values())"
   ]
  },
  {
   "cell_type": "code",
   "execution_count": 8,
   "metadata": {},
   "outputs": [
    {
     "name": "stdout",
     "output_type": "stream",
     "text": [
      "dict_items([('k1', 'name'), ('k2', 'age'), ('k3', 'number')])\n"
     ]
    }
   ],
   "source": [
    "print(dict.items())"
   ]
  },
  {
   "cell_type": "code",
   "execution_count": 51,
   "metadata": {},
   "outputs": [
    {
     "name": "stdout",
     "output_type": "stream",
     "text": [
      "{'max': 9848394569}\n",
      "contact added successfully\n",
      "{'max': 9848394569, 'mad': 9999999999}\n",
      "contact added successfully\n",
      "{'max': 9848394569, 'mad': 9999999999, 'min': 9898989898}\n",
      "contact added successfully\n",
      "contact alraedy exists\n"
     ]
    }
   ],
   "source": [
    "## Adding a contact\n",
    "## name, phone_number\n",
    "contacts={}\n",
    "def add_contact(name,phone_number):\n",
    "    if name not in contacts:\n",
    "        contacts[name]=phone_number\n",
    "        print(contacts)\n",
    "        print(\"contact added successfully\")\n",
    "    else:\n",
    "        print(\"contact alraedy exists\")\n",
    "        \n",
    "add_contact(\"max\",9848394569)\n",
    "add_contact(\"mad\",9999999999)\n",
    "add_contact(\"min\",9898989898)\n",
    "add_contact(\"min\",9898989898)"
   ]
  },
  {
   "cell_type": "markdown",
   "metadata": {},
   "source": [
    "## Searching contacts"
   ]
  },
  {
   "cell_type": "code",
   "execution_count": 52,
   "metadata": {},
   "outputs": [
    {
     "name": "stdout",
     "output_type": "stream",
     "text": [
      "max : 9848394569\n",
      "{'max': 9848394569, 'mad': 9999999999, 'min': 9898989898}\n",
      "mod doesn't exists in contacts\n"
     ]
    }
   ],
   "source": [
    "## Searching a contact\n",
    "## using key \"name\"\n",
    "def search_contact(name):\n",
    "    if name in contacts:\n",
    "        print(name,\":\",contacts[name])\n",
    "        print(contacts)\n",
    "    else:\n",
    "        print(name,\"doesn't exists in contacts\")\n",
    "search_contact(\"max\")\n",
    "search_contact(\"mod\")\n"
   ]
  },
  {
   "cell_type": "code",
   "execution_count": 53,
   "metadata": {},
   "outputs": [
    {
     "name": "stdout",
     "output_type": "stream",
     "text": [
      "{'max': 9848394569, 'mad': 9999999999, 'min': 9898989898, 'name1': 4823748743, 'name3': 9842448383}\n",
      "2 contact(s) added successfully\n"
     ]
    }
   ],
   "source": [
    "## Merging two contacts\n",
    "## using update() method\n",
    "def merge_contacts(new_contacts):\n",
    "    contacts.update(new_contacts)\n",
    "    print(contacts)\n",
    "    print(len(new_contacts.keys()),\"contact(s) added successfully\")\n",
    "new_contacts={\"name1\":4823748743,\"name3\":9842448383}\n",
    "merge_contacts(new_contacts)\n",
    "    "
   ]
  },
  {
   "cell_type": "code",
   "execution_count": 56,
   "metadata": {},
   "outputs": [
    {
     "name": "stdout",
     "output_type": "stream",
     "text": [
      "{'sandy': 4567890122}\n",
      "contact added successfully\n"
     ]
    }
   ],
   "source": [
    "## Dictionary:Mobile_contacts\n",
    "## Add a contact\n",
    "## KEY:'a',Value:9989870478\n",
    "## Another Dictionary:Apple_mobile\n",
    "## Key:'b',value:9989970478\n",
    "mobile_contacts={}\n",
    "def add_contacts(key,value):\n",
    "    if key not in mobile_contacts:\n",
    "        mobile_contacts[key]=value\n",
    "        print(mobile_contacts)\n",
    "        print(\"contact added successfully\")\n",
    "    else:\n",
    "        print(\"contact already exists\")\n",
    "add_contacts(\"sandy\",4567890122)"
   ]
  },
  {
   "cell_type": "markdown",
   "metadata": {},
   "source": [
    "## Packages and modules\n"
   ]
  },
  {
   "cell_type": "markdown",
   "metadata": {},
   "source": [
    "#### ->Packages are  the colection of Modules\n",
    "#### ->Modules are the collection of Functions"
   ]
  },
  {
   "cell_type": "code",
   "execution_count": 57,
   "metadata": {},
   "outputs": [],
   "source": [
    "## Example: math is a module which has different functions\n",
    "from math import floor:"
   ]
  },
  {
   "cell_type": "code",
   "execution_count": 217,
   "metadata": {},
   "outputs": [
    {
     "name": "stdout",
     "output_type": "stream",
     "text": [
      "enter a number: 11\n",
      "enter a number: 11\n"
     ]
    },
    {
     "data": {
      "text/plain": [
       "True"
      ]
     },
     "execution_count": 217,
     "metadata": {},
     "output_type": "execute_result"
    }
   ],
   "source": [
    "from packages.numerical import isprime\n",
    "isprime(int(input(\"enter a number: \")))"
   ]
  },
  {
   "cell_type": "code",
   "execution_count": 218,
   "metadata": {},
   "outputs": [
    {
     "name": "stdout",
     "output_type": "stream",
     "text": [
      "enter no. of students: 10\n",
      "enter lower bound number: 0\n",
      "enter upper bound number: 100\n",
      "7\n",
      "77\n",
      "35\n",
      "73\n",
      "66\n",
      "81\n",
      "65\n",
      "36\n",
      "9\n",
      "69\n"
     ]
    }
   ],
   "source": [
    "##genenrating marks using \"random\" pre-built function\n",
    "import random\n",
    "def generate_marks(n,lb,ub):\n",
    "    for i in range(0,n):\n",
    "        print(random.randint(lb,ub))  # randint is a method\n",
    "generate_marks(n=int(input(\"enter no. of students: \")),lb=int(input(\"enter lower bound number: \")), ub=int(input(\"enter upper bound number: \")))"
   ]
  },
  {
   "cell_type": "markdown",
   "metadata": {},
   "source": [
    "### Regular Expressions\n",
    "#### Phone Number:Pattern=[6-9][0-9]{9}"
   ]
  },
  {
   "cell_type": "code",
   "execution_count": 23,
   "metadata": {},
   "outputs": [
    {
     "name": "stdout",
     "output_type": "stream",
     "text": [
      "valid\n",
      "invalid\n"
     ]
    }
   ],
   "source": [
    "## Function for phone number validation using\n",
    "## Regular Expression\n",
    "import re\n",
    "def phonenumber_validator(number):\n",
    "    pattern='^[6-9][0-9]{9}$'\n",
    "    if re.match(pattern,number):  # match is a pre-built method for comparision\n",
    "        print(\"valid\")\n",
    "    else:\n",
    "        print(\"invalid\")\n",
    "phonenumber_validator(\"9949333193\")\n",
    "phonenumber_validator(\"0866233322\")"
   ]
  },
  {
   "cell_type": "code",
   "execution_count": 34,
   "metadata": {},
   "outputs": [
    {
     "name": "stdout",
     "output_type": "stream",
     "text": [
      "valid\n",
      "valid\n"
     ]
    }
   ],
   "source": [
    "import re\n",
    "def phonenumber_validator(number):\n",
    "    pattern='^[0,6-9][0-9]{9}$'\n",
    "    if re.match(pattern,number):  # match is a pre-built method for comparision\n",
    "        print(\"valid\")\n",
    "    else:\n",
    "        print(\"invalid\")\n",
    "phonenumber_validator(\"9949333193\")\n",
    "phonenumber_validator(\"0866233322\")"
   ]
  },
  {
   "cell_type": "code",
   "execution_count": 36,
   "metadata": {},
   "outputs": [
    {
     "name": "stdout",
     "output_type": "stream",
     "text": [
      "id valid\n",
      "id invalid\n"
     ]
    }
   ],
   "source": [
    "## pattern for email verification\n",
    "## Email ID: username,domain,extension\n",
    "## pattern:'^[a-z0-9][a-z0-9_.]{3,18}[@][a-z0-9]{4,18}[.][a-z]{2,4}$'\n",
    "import re\n",
    "def emailidvalidator(id):\n",
    "    pattern='^[a-z0-9][a-z0-9_.]{3,18}[@][a-z0-9]{4,18}[.][a-z]{2,4}$'\n",
    "    if re.match(pattern,id):\n",
    "        print(\"id valid\")\n",
    "    else:\n",
    "        print(\"id invalid\")\n",
    "emailidvalidator(\"boppananetaji@gmail.com\")\n",
    "emailidvalidator(\"boppananetaji123456790@gmail.in\")"
   ]
  },
  {
   "cell_type": "markdown",
   "metadata": {},
   "source": [
    "## File Handling\n",
    "- It's a collection of related information\n",
    "- Basic steps\n",
    "    - opening a file\n",
    "    - Performing operations(read,write,append)\n",
    "    - closing a file"
   ]
  },
  {
   "cell_type": "markdown",
   "metadata": {},
   "source": [
    "## syntax: file_obj=open(\"filepath\",\"mode\")"
   ]
  },
  {
   "cell_type": "code",
   "execution_count": 61,
   "metadata": {},
   "outputs": [
    {
     "name": "stdout",
     "output_type": "stream",
     "text": [
      "Line 1\n",
      "Line 2\n",
      "Line 3Line 5\n"
     ]
    }
   ],
   "source": [
    "n=open(\"DataFiles/data.txt\",\"r\") # one way to open the file\n",
    "print(n.read())                   ## Here we are using 'r' for read"
   ]
  },
  {
   "cell_type": "code",
   "execution_count": 62,
   "metadata": {},
   "outputs": [
    {
     "name": "stdout",
     "output_type": "stream",
     "text": [
      "6\n"
     ]
    }
   ],
   "source": [
    "## another way to open the file \n",
    "with open(\"DataFiles/data.txt\",\"a\") as n:  # Here we are using 'a' for append\n",
    "    print(n.write(\"Line 5\"))"
   ]
  },
  {
   "cell_type": "code",
   "execution_count": 64,
   "metadata": {},
   "outputs": [
    {
     "name": "stdout",
     "output_type": "stream",
     "text": [
      "6\n"
     ]
    }
   ],
   "source": [
    "with open(\"DataFiles/data.txt\",\"w\") as n:  # Here we are using 'w' for write by clearing the existing data\n",
    "    print(n.write(\"Line 5\"))"
   ]
  },
  {
   "cell_type": "code",
   "execution_count": 93,
   "metadata": {},
   "outputs": [
    {
     "name": "stdout",
     "output_type": "stream",
     "text": [
      "54\n"
     ]
    }
   ],
   "source": [
    "## Let's write another code\n",
    "with open(\"DataFiles/file.txt\",\"a\") as n:   ## Adding some data in the file through code by using \"a\"-append method\n",
    "    print(n.write(\"\\nAndhra Loyola Institute of Engineering And Technology\"))"
   ]
  },
  {
   "cell_type": "code",
   "execution_count": 115,
   "metadata": {},
   "outputs": [
    {
     "name": "stdout",
     "output_type": "stream",
     "text": [
      "21\n",
      "42\n",
      "0\n"
     ]
    }
   ],
   "source": [
    "with open(\"DataFiles/data.txt\",'a+') as f:    \n",
    "    f.read()\n",
    "    print(f.tell())\n",
    "    f.write(\"line1\\nline2\\nline3\\n\")\n",
    "    print(f.tell())\n",
    "    f.seek(0)   ## to change the cursor position\n",
    "    print(f.tell())"
   ]
  },
  {
   "cell_type": "code",
   "execution_count": 94,
   "metadata": {},
   "outputs": [
    {
     "name": "stdout",
     "output_type": "stream",
     "text": [
      "91\n"
     ]
    }
   ],
   "source": [
    "with open(\"DataFiles/file.txt\",\"a+\") as n:\n",
    "    n.read()\n",
    "    print(n.tell())  ## to find where is the cursor position\n",
    "    n.write(\"\\nLine2\\nLine3\\nLine4\\n\")\n",
    "   "
   ]
  },
  {
   "cell_type": "code",
   "execution_count": 97,
   "metadata": {},
   "outputs": [
    {
     "name": "stdout",
     "output_type": "stream",
     "text": [
      "['L']\n",
      "['i']\n",
      "['n']\n",
      "['e']\n",
      "[]\n",
      "['5']\n"
     ]
    }
   ],
   "source": [
    "with open(\"DataFiles/data.txt\") as n:\n",
    "    data=n.read()\n",
    "    for line in data:\n",
    "        word=line.split()\n",
    "        print(word)"
   ]
  },
  {
   "cell_type": "code",
   "execution_count": 153,
   "metadata": {},
   "outputs": [
    {
     "name": "stdout",
     "output_type": "stream",
     "text": [
      "['python#programming#level2   fhhjhfsdhf   kjsdfjkshdfhdsjkf   ksdjfhdsjkfhskj   sdfkhekfhkjdsa  asdjhdkjsd\\n', 'fdsdfhk   sdkfhkdshfk\\n', 'fdskhsdkjfsd\\n', 'efshsdkjfhskdh   hsdkjfhksdhfk\\n', 'sdfjkhfkdkfhskh']\n"
     ]
    }
   ],
   "source": [
    "## readlines()\n",
    "with open(\"DataFiles/data.txt\") as n:\n",
    "    print(n.readlines()) # readlines are used to print the whole data in list format"
   ]
  },
  {
   "cell_type": "code",
   "execution_count": 152,
   "metadata": {},
   "outputs": [
    {
     "name": "stdout",
     "output_type": "stream",
     "text": [
      "python#programming#level2   fhhjhfsdhf   kjsdfjkshdfhdsjkf   ksdjfhdsjkfhskj   sdfkhekfhkjdsa  asdjhdkjsd\n",
      "\n"
     ]
    }
   ],
   "source": [
    "## readline()\n",
    "with open(\"DataFiles/data.txt\",'r') as n:\n",
    "    print(n.readline())  ## readline is used to print 1 line of data "
   ]
  },
  {
   "cell_type": "code",
   "execution_count": 151,
   "metadata": {},
   "outputs": [
    {
     "name": "stdout",
     "output_type": "stream",
     "text": [
      "['python#programming#level2', 'fhhjhfsdhf', 'kjsdfjkshdfhdsjkf', 'ksdjfhdsjkfhskj', 'sdfkhekfhkjdsa', 'asdjhdkjsd', 'fdsdfhk', 'sdkfhkdshfk', 'fdskhsdkjfsd', 'efshsdkjfhskdh', 'hsdkjfhksdhfk', 'sdfjkhfkdkfhskh']\n"
     ]
    }
   ],
   "source": [
    "with open(\"DataFiles/data.txt\",'r') as n:    ## Here 'n' is file object\n",
    "    fh=n.read()\n",
    "    words=fh.split()  ## in order to split the data using spaces\n",
    "    print(words)"
   ]
  },
  {
   "cell_type": "code",
   "execution_count": 150,
   "metadata": {},
   "outputs": [
    {
     "name": "stdout",
     "output_type": "stream",
     "text": [
      "['python', 'programming', 'level2   fhhjhfsdhf   kjsdfjkshdfhdsjkf   ksdjfhdsjkfhskj   sdfkhekfhkjdsa  asdjhdkjsd\\nfdsdfhk   sdkfhkdshfk\\nfdskhsdkjfsd\\nefshsdkjfhskdh   hsdkjfhksdhfk\\nsdfjkhfkdkfhskh']\n"
     ]
    }
   ],
   "source": [
    "with open(\"DataFiles/data.txt\",'r') as n:\n",
    "    fh=n.read()\n",
    "    words=fh.split('#')  ## in order to split the data using '#' hashes\n",
    "    print(words)"
   ]
  },
  {
   "cell_type": "code",
   "execution_count": 146,
   "metadata": {},
   "outputs": [
    {
     "name": "stdout",
     "output_type": "stream",
     "text": [
      "python#programming#level2   fhhjhfsdhf   kjsdfjkshdfhdsjkf   ksdjfhdsjkfhskj   sdfkhekfhkjdsa  asdjhdkjsd\n",
      "fdsdfhk   sdkfhkdshfk\n",
      "fdskhsdkjfsd\n",
      "efshsdkjfhskdh   hsdkjfhksdhfk\n",
      "sdfjkhfkdkfhskh\n"
     ]
    }
   ],
   "source": [
    "## program to read the file using function by giving the filepath\n",
    "def readfile(filepath):\n",
    "    with open(filepath,'r') as n:\n",
    "        filedata=n.read()\n",
    "    return filedata\n",
    "filepath=\"DataFiles/data.txt\"\n",
    "print(readfile(filepath))"
   ]
  },
  {
   "cell_type": "code",
   "execution_count": 149,
   "metadata": {},
   "outputs": [
    {
     "name": "stdout",
     "output_type": "stream",
     "text": [
      "5\n"
     ]
    }
   ],
   "source": [
    "# program to count no. of lines in \n",
    "def linecount(filename):\n",
    "    count=0\n",
    "    with open(filename,'r') as n:\n",
    "        for i in n:\n",
    "            count+=1\n",
    "    return count\n",
    "filename=\"DataFiles/data.txt\"\n",
    "print(linecount(filename))"
   ]
  },
  {
   "cell_type": "code",
   "execution_count": 155,
   "metadata": {},
   "outputs": [
    {
     "name": "stdout",
     "output_type": "stream",
     "text": [
      "12\n"
     ]
    }
   ],
   "source": [
    "# program to print the no. of words in a file\n",
    "def wordcount(filename):\n",
    "    count=0\n",
    "    with open(filename,'r') as n:\n",
    "        fh=n.read()                   ## the program in this cell and below cell are same\n",
    "        words=fh.split()\n",
    "    for i in words:\n",
    "            count+=1\n",
    "    return count\n",
    "filename=\"DataFiles/data.txt\"\n",
    "print(wordcount(filename))"
   ]
  },
  {
   "cell_type": "code",
   "execution_count": 160,
   "metadata": {},
   "outputs": [
    {
     "name": "stdout",
     "output_type": "stream",
     "text": [
      "12\n"
     ]
    }
   ],
   "source": [
    "# Other way to print the no. of words in a file\n",
    "import re\n",
    "def wordcount(filepath):\n",
    "    pattern=\"[ \\n]\"\n",
    "    filedata=readfile(filepath)\n",
    "    count=len(re.split(pattern,filedata))\n",
    "    return count\n",
    "filepath=\"DataFiles/data.txt\"\n",
    "print(wordcount(filepath))"
   ]
  },
  {
   "cell_type": "code",
   "execution_count": 184,
   "metadata": {},
   "outputs": [
    {
     "name": "stdout",
     "output_type": "stream",
     "text": [
      "['netaji', 'netaji', 'it', 'it']\n",
      "['netaji', 'it']\n"
     ]
    }
   ],
   "source": [
    "## program to print the unique words in a file\n",
    "def uniqueword():\n",
    "    l=[]\n",
    "    with open(\"DataFiles/data.txt\") as n:\n",
    "        fh=n.read()                   \n",
    "        words=fh.split()\n",
    "        print(words)\n",
    "        for i in words:\n",
    "            if i not in l:\n",
    "                l.append(i)\n",
    "        print(l)\n",
    "uniqueword()"
   ]
  },
  {
   "cell_type": "code",
   "execution_count": 193,
   "metadata": {},
   "outputs": [
    {
     "name": "stdout",
     "output_type": "stream",
     "text": [
      "['netaji', 'netaji', 'it', 'it', 'loyola', 'andhra']\n",
      "['netaji', 'it', 'loyola', 'andhra']\n",
      "2\n"
     ]
    }
   ],
   "source": [
    "## program to print the count of repeated words\n",
    "def countword():\n",
    "    l=[]\n",
    "    with open(\"DataFiles/data.txt\") as n:\n",
    "        fh=n.read()                   \n",
    "        words=fh.split()\n",
    "        print(words)\n",
    "        for i in words:\n",
    "             if i not in l:\n",
    "                l.append(i)\n",
    "        print(l)\n",
    "        print(len(words)-len(l))\n",
    "countword()"
   ]
  },
  {
   "cell_type": "code",
   "execution_count": 195,
   "metadata": {},
   "outputs": [
    {
     "data": {
      "text/plain": [
       "{'netaji': 2, 'it': 2, 'loyola': 1, 'andhra': 1}"
      ]
     },
     "execution_count": 195,
     "metadata": {},
     "output_type": "execute_result"
    }
   ],
   "source": [
    "## program to find how many words are repeated in the file\n",
    "def wordfrequency(filepath):\n",
    "    with open(filepath,'r') as n:\n",
    "        data=n.read()\n",
    "        allwords=data.split()\n",
    "        wordfreq={}\n",
    "        for element in allwords:\n",
    "            if element not in wordfreq:\n",
    "                wordfreq[element]=1\n",
    "            else:\n",
    "                wordfreq[element]+=1\n",
    "        return wordfreq\n",
    "filepath=\"DataFiles/data.txt\"\n",
    "wordfrequency(filepath)"
   ]
  },
  {
   "cell_type": "markdown",
   "metadata": {},
   "source": [
    "# Sets and its methods"
   ]
  },
  {
   "cell_type": "code",
   "execution_count": 200,
   "metadata": {},
   "outputs": [
    {
     "name": "stdout",
     "output_type": "stream",
     "text": [
      "l= {456, 121, 'aws', 45}\n",
      "m= {456, 121, 'aws', 45}\n"
     ]
    }
   ],
   "source": [
    "## set is a datastructure\n",
    "## set is represented in {}\n",
    "## set eliminates duplicate values in it\n",
    "l=(121,\"aws\",456,121,45,\"aws\")\n",
    "print(\"l=\",set(l))    ## Here \"set()\" converts the list and tuple into set\n",
    "m=[121,\"aws\",456,121,45,\"aws\"]\n",
    "print(\"m=\",set(m))"
   ]
  },
  {
   "cell_type": "markdown",
   "metadata": {},
   "source": [
    "## set methods"
   ]
  },
  {
   "cell_type": "code",
   "execution_count": 202,
   "metadata": {},
   "outputs": [
    {
     "data": {
      "text/plain": [
       "['__and__',\n",
       " '__class__',\n",
       " '__contains__',\n",
       " '__delattr__',\n",
       " '__dir__',\n",
       " '__doc__',\n",
       " '__eq__',\n",
       " '__format__',\n",
       " '__ge__',\n",
       " '__getattribute__',\n",
       " '__gt__',\n",
       " '__hash__',\n",
       " '__iand__',\n",
       " '__init__',\n",
       " '__init_subclass__',\n",
       " '__ior__',\n",
       " '__isub__',\n",
       " '__iter__',\n",
       " '__ixor__',\n",
       " '__le__',\n",
       " '__len__',\n",
       " '__lt__',\n",
       " '__ne__',\n",
       " '__new__',\n",
       " '__or__',\n",
       " '__rand__',\n",
       " '__reduce__',\n",
       " '__reduce_ex__',\n",
       " '__repr__',\n",
       " '__ror__',\n",
       " '__rsub__',\n",
       " '__rxor__',\n",
       " '__setattr__',\n",
       " '__sizeof__',\n",
       " '__str__',\n",
       " '__sub__',\n",
       " '__subclasshook__',\n",
       " '__xor__',\n",
       " 'add',\n",
       " 'clear',\n",
       " 'copy',\n",
       " 'difference',\n",
       " 'difference_update',\n",
       " 'discard',\n",
       " 'intersection',\n",
       " 'intersection_update',\n",
       " 'isdisjoint',\n",
       " 'issubset',\n",
       " 'issuperset',\n",
       " 'pop',\n",
       " 'remove',\n",
       " 'symmetric_difference',\n",
       " 'symmetric_difference_update',\n",
       " 'union',\n",
       " 'update']"
      ]
     },
     "execution_count": 202,
     "metadata": {},
     "output_type": "execute_result"
    }
   ],
   "source": [
    "dir(set)"
   ]
  },
  {
   "cell_type": "code",
   "execution_count": 206,
   "metadata": {},
   "outputs": [
    {
     "name": "stdout",
     "output_type": "stream",
     "text": [
      "{'abc', 1, 'number', 'aliet', 'doctor', 123, 991}\n"
     ]
    }
   ],
   "source": [
    "## union() method\n",
    "s1={\"abc\",1,\"aliet\",123,123,\"aliet\"}\n",
    "s2={\"doctor\",\"number\",991}\n",
    "print(s1.union(s2))"
   ]
  },
  {
   "cell_type": "code",
   "execution_count": 211,
   "metadata": {},
   "outputs": [
    {
     "name": "stdout",
     "output_type": "stream",
     "text": [
      "{123, 'aliet'}\n"
     ]
    }
   ],
   "source": [
    "## intersection() method\n",
    "s1={\"abc\",1,\"aliet\",123,123,\"aliet\"}\n",
    "s2={\"doctor\",\"number\",991,\"aliet\",123}\n",
    "print(s1.intersection(s2))"
   ]
  },
  {
   "cell_type": "code",
   "execution_count": 214,
   "metadata": {},
   "outputs": [
    {
     "name": "stdout",
     "output_type": "stream",
     "text": [
      "{'abc', 1, 'aliet', 345, 123}\n"
     ]
    }
   ],
   "source": [
    "## add() method\n",
    "s1={\"abc\",1,\"aliet\",123,123,\"aliet\"}\n",
    "s1.add(345)\n",
    "print(s1)"
   ]
  },
  {
   "cell_type": "code",
   "execution_count": 215,
   "metadata": {},
   "outputs": [
    {
     "name": "stdout",
     "output_type": "stream",
     "text": [
      "{'abc', 1}\n"
     ]
    }
   ],
   "source": [
    "s1={\"abc\",1,\"aliet\",123,123,\"aliet\"}\n",
    "s2={\"doctor\",\"number\",991,\"aliet\",123}\n",
    "print(s1.difference(s2))"
   ]
  },
  {
   "cell_type": "code",
   "execution_count": null,
   "metadata": {},
   "outputs": [],
   "source": []
  },
  {
   "cell_type": "code",
   "execution_count": null,
   "metadata": {},
   "outputs": [],
   "source": []
  },
  {
   "cell_type": "code",
   "execution_count": 223,
   "metadata": {},
   "outputs": [
    {
     "name": "stdout",
     "output_type": "stream",
     "text": [
      "3 x 5 = 15\n",
      "3 x 6 = 18\n",
      "3 x 7 = 21\n"
     ]
    }
   ],
   "source": [
    "## Tasks\n",
    "## Program for generating multiplication table\n",
    "## i/p:(3,5,7)\n",
    "##o/p:3x5=15\n",
    "#     3x6=18\n",
    "#     3x7=21\n",
    "def multipli(num,lb,ub):\n",
    "    for i in range(lb,ub+1):\n",
    "        print(num,\"x\",i,\"=\",num*i)\n",
    "multipli(3,5,7)"
   ]
  },
  {
   "cell_type": "code",
   "execution_count": 7,
   "metadata": {},
   "outputs": [
    {
     "name": "stdout",
     "output_type": "stream",
     "text": [
      "the unique list is:  [1, 10, 9, 8]\n",
      "the maximum value is:  10\n",
      "the minimum value is:  1\n",
      "the average of numbers in the list is:  7\n"
     ]
    }
   ],
   "source": [
    "# Design a program to find maximum, minimum and average of the numbers in a list\n",
    "# i/p;l=[1,10,10,9,9,8]\n",
    "# o/p:1. Find unique list\n",
    "#     2. Find max and min values\n",
    "#     3. Find average\n",
    "def min_max_avg_unq(a):\n",
    "    l=[]\n",
    "    for i in a:\n",
    "        if i not in l:\n",
    "            l.append(i)\n",
    "    print(\"the unique list is: \",l)\n",
    "    print(\"the maximum value is: \",max(l))\n",
    "    print(\"the minimum value is: \",min(l))\n",
    "    print(\"the average of numbers in the list is: \",sum(l)//len(l))\n",
    "min_max_avg_unq(a=[1,10,10,9,9,8])        "
   ]
  },
  {
   "cell_type": "code",
   "execution_count": 43,
   "metadata": {},
   "outputs": [
    {
     "data": {
      "text/plain": [
       "-1"
      ]
     },
     "execution_count": 43,
     "metadata": {},
     "output_type": "execute_result"
    }
   ],
   "source": [
    "## Write a program for linear search in a list\n",
    "# if key is found print \"1\"\n",
    "# else print \"-1\"\n",
    "# i/p-> l=[10,9,8,7,6],5\n",
    "# o/p:\n",
    "def linear_search(A, k):\n",
    "    for element in A:\n",
    "        if(element==k):\n",
    "            return 1\n",
    "        else:\n",
    "            return -1\n",
    "linear_search(A=[10,9,8,7,6], k=1)"
   ]
  },
  {
   "cell_type": "code",
   "execution_count": 32,
   "metadata": {},
   "outputs": [
    {
     "name": "stdout",
     "output_type": "stream",
     "text": [
      "enter a number: 2\n",
      "the sqrt of 2 is:  1.4142135623730951\n"
     ]
    }
   ],
   "source": [
    "# Find the square root of a numbers in list without using math package\n",
    "def sqrt(number):\n",
    "    squrt=number**(1/2)\n",
    "    print(\"the sqrt of\",number,\"is: \",squrt)\n",
    "sqrt(int(input(\"enter a number: \"))) # Here when we are giving a long int number the error is\n",
    "                                     # \"int too large to convert to float\"\n",
    "\n",
    "    "
   ]
  },
  {
   "cell_type": "code",
   "execution_count": 1,
   "metadata": {},
   "outputs": [
    {
     "ename": "SyntaxError",
     "evalue": "invalid syntax (<ipython-input-1-65bf68056644>, line 5)",
     "output_type": "error",
     "traceback": [
      "\u001b[1;36m  File \u001b[1;32m\"<ipython-input-1-65bf68056644>\"\u001b[1;36m, line \u001b[1;32m5\u001b[0m\n\u001b[1;33m    def\u001b[0m\n\u001b[1;37m        ^\u001b[0m\n\u001b[1;31mSyntaxError\u001b[0m\u001b[1;31m:\u001b[0m invalid syntax\n"
     ]
    }
   ],
   "source": [
    "## Using a regular expression\n",
    "## add a name,phone_number and email to contacts\n",
    "# Dictionary\n",
    "import re\n",
    "def "
   ]
  },
  {
   "cell_type": "code",
   "execution_count": null,
   "metadata": {},
   "outputs": [],
   "source": []
  }
 ],
 "metadata": {
  "kernelspec": {
   "display_name": "Python 3",
   "language": "python",
   "name": "python3"
  },
  "language_info": {
   "codemirror_mode": {
    "name": "ipython",
    "version": 3
   },
   "file_extension": ".py",
   "mimetype": "text/x-python",
   "name": "python",
   "nbconvert_exporter": "python",
   "pygments_lexer": "ipython3",
   "version": "3.6.5"
  }
 },
 "nbformat": 4,
 "nbformat_minor": 2
}
